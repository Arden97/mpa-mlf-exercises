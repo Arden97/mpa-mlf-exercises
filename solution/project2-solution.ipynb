{
  "nbformat": 4,
  "nbformat_minor": 0,
  "metadata": {
    "colab": {
      "provenance": [],
      "gpuType": "T4"
    },
    "kernelspec": {
      "name": "python3",
      "display_name": "Python 3"
    },
    "language_info": {
      "name": "python"
    },
    "accelerator": "GPU"
  },
  "cells": [
    {
      "cell_type": "code",
      "execution_count": 1,
      "metadata": {
        "id": "F2EtGPVy7u67"
      },
      "outputs": [],
      "source": [
        "\n",
        "from tensorflow import keras\n",
        "from keras.models import Sequential\n",
        "from keras.layers import InputLayer\n",
        "from keras.layers import Conv2D\n",
        "from keras.layers import MaxPooling2D\n",
        "from keras.layers import Flatten\n",
        "from keras.layers import Dense\n",
        "import time\n",
        "from keras.optimizers import SGD\n",
        "import re\n",
        "import pandas as pd\n",
        "import os\n",
        "from PIL import Image\n",
        "from keras.datasets import mnist\n",
        "import numpy as np\n",
        "import matplotlib\n",
        "import matplotlib.pyplot as plt\n",
        "import csv\n",
        "\n",
        "\n",
        "font = {'weight' : 'bold',\n",
        "        'size'   : 12}\n",
        "\n",
        "matplotlib.rc('font', **font)\n",
        "\n"
      ]
    },
    {
      "cell_type": "code",
      "source": [
        "from google.colab import drive\n",
        "\n",
        "drive.mount('/content/drive')"
      ],
      "metadata": {
        "colab": {
          "base_uri": "https://localhost:8080/"
        },
        "id": "ydvw8TQn_wqn",
        "outputId": "be4c40be-83dd-478c-e496-9702d8084065"
      },
      "execution_count": 2,
      "outputs": [
        {
          "output_type": "stream",
          "name": "stdout",
          "text": [
            "Mounted at /content/drive\n"
          ]
        }
      ]
    },
    {
      "cell_type": "code",
      "source": [
        "\n",
        "# DATA TRAIN LOAD\n",
        "\n",
        "train_data_dir = '/content/drive/Shareddrives/shared/projekt2/train_data_unlabeled'\n",
        "X_train = []\n",
        "\n",
        "progress = 0\n",
        "\n",
        "# Custom sort key to properly sort by number\n",
        "def sort_key(filename):\n",
        "    number = re.search(r'\\d+', filename).group()\n",
        "    return int(number)\n",
        "\n",
        "arr_indexes = []\n",
        "# sort directory by number, then store images to an array\n",
        "dir = sorted(os.listdir(train_data_dir), key=sort_key)\n",
        "print('loading ' + str(len(dir)) + ' data of 16182 data')\n",
        "for f in dir:\n",
        "  if not f.startswith('.'):\n",
        "    number = re.search(r'\\d+', f).group()\n",
        "    arr_indexes.append(int(number)-1)\n",
        "    img = Image.open(os.path.join(train_data_dir, f))\n",
        "    img_array = np.array(img)\n",
        "    X_train.append(img_array)"
      ],
      "metadata": {
        "colab": {
          "base_uri": "https://localhost:8080/"
        },
        "id": "gpWjL7AUflqu",
        "outputId": "01c1b977-907c-44c8-f718-b3ce55440f3b"
      },
      "execution_count": 5,
      "outputs": [
        {
          "output_type": "stream",
          "name": "stdout",
          "text": [
            "loading 16182 data of 16182 data\n"
          ]
        }
      ]
    },
    {
      "cell_type": "code",
      "source": [
        "# load train labels\n",
        "train_labels_file = '/content/drive/Shareddrives/shared/projekt2/y_train.csv'\n",
        "Y_train = pd.read_csv(train_labels_file, usecols=['target']).values\n",
        "\n",
        "# disregard labels that are not present in dataset\n",
        "Y_train = Y_train[arr_indexes]"
      ],
      "metadata": {
        "id": "S2_vO_lLJykP"
      },
      "execution_count": 7,
      "outputs": []
    },
    {
      "cell_type": "code",
      "source": [
        "# load test data\n",
        "\n",
        "# Custom sort key to properly sort by number\n",
        "def sort_key(filename):\n",
        "    number = re.search(r'\\d+', filename).group()\n",
        "    return int(number)\n",
        "\n",
        "test_data_dir = '/content/drive/Shareddrives/shared/projekt2/test_data_unlabeled'\n",
        "X_test = []\n",
        "\n",
        "\n",
        "# sort directory by number, then store images to an array\n",
        "dir = sorted(os.listdir(test_data_dir), key=sort_key)\n",
        "print('loading ' + str(len(dir)) + ' data of 4796 data')\n",
        "for f in dir:\n",
        "  if not f.startswith('.'):\n",
        "    img = Image.open(os.path.join(test_data_dir, f))\n",
        "    img_array = np.array(img)\n",
        "    X_test.append(img_array)"
      ],
      "metadata": {
        "colab": {
          "base_uri": "https://localhost:8080/"
        },
        "id": "UB_zOVFbJ2Cm",
        "outputId": "6fa2a189-efe5-4499-d876-eebccc106338"
      },
      "execution_count": 8,
      "outputs": [
        {
          "output_type": "stream",
          "name": "stdout",
          "text": [
            "loading 4796 data of 4796 data\n"
          ]
        }
      ]
    },
    {
      "cell_type": "code",
      "source": [
        "# Show how much data is located on the drive\n",
        "\n",
        "# Custom sort key to properly sort by number\n",
        "def sort_key(filename):\n",
        "    number = re.search(r'\\d+', filename).group()\n",
        "    return int(number)\n",
        "\n",
        "test_data_dir = '/content/drive/Shareddrives/shared/projekt2/test_data_unlabeled'\n",
        "train_data_dir = '/content/drive/Shareddrives/shared/projekt2/train_data_unlabeled'\n",
        "\n",
        "dir = sorted(os.listdir(test_data_dir), key=sort_key)\n",
        "print('test data: ' + str(len(dir)) + '/4796')\n",
        "\n",
        "dir = sorted(os.listdir(train_data_dir), key=sort_key)\n",
        "print('train data: ' + str(len(dir)) + '/16182')"
      ],
      "metadata": {
        "colab": {
          "base_uri": "https://localhost:8080/"
        },
        "id": "34Dyjb3ZTRWi",
        "outputId": "4ab776d4-660e-4d9e-b862-7e43255c9abf"
      },
      "execution_count": 4,
      "outputs": [
        {
          "output_type": "stream",
          "name": "stdout",
          "text": [
            "test data: 4796\n",
            "train data: 16182\n"
          ]
        }
      ]
    },
    {
      "cell_type": "code",
      "source": [
        "# DATA PREPROCESSING\n",
        "\n",
        "X_train = np.array(X_train)\n",
        "X_test = np.array(X_test)\n",
        "\n",
        "X_train = X_train.astype(np.float32)/255\n",
        "X_test = X_test.astype(np.float32)/255\n",
        "\n",
        "\n",
        "\n",
        "Y = Y_train[:X_train.shape[0]]\n",
        "# to onehot encoding\n",
        "y_train_encoded = keras.utils.to_categorical(Y_train)"
      ],
      "metadata": {
        "id": "KN7mO-J4CEo3"
      },
      "execution_count": 9,
      "outputs": []
    },
    {
      "cell_type": "code",
      "source": [
        "# Verify the shapes if you want\n"
      ],
      "metadata": {
        "id": "m2UiSVN2KfPT",
        "colab": {
          "base_uri": "https://localhost:8080/"
        },
        "outputId": "418789a4-dcf7-43b6-b8b3-cb0500f6c4a3"
      },
      "execution_count": 78,
      "outputs": [
        {
          "output_type": "execute_result",
          "data": {
            "text/plain": [
              "(3336, 45, 51, 4)"
            ]
          },
          "metadata": {},
          "execution_count": 78
        }
      ]
    },
    {
      "cell_type": "code",
      "source": [
        "\n",
        "# MODEL ARCHITECTURE\n",
        "\n",
        "model = Sequential()\n",
        "\n",
        "model_no = 7\n",
        "\n",
        "\n",
        "# Pure convolutional network\n",
        "if model_no == 1:\n",
        "  model.add(InputLayer(input_shape=(45,51,4)))\n",
        "  model.add(Conv2D(32, (3,3)))\n",
        "  model.add(MaxPooling2D(pool_size=(3,3)))\n",
        "  model.add(Conv2D(8, (2,2)))\n",
        "  model.add(Flatten(input_shape=(28,28,3)))\n",
        "  model.add(Dense(4, activation='sigmoid'))\n",
        "# Pure linear network\n",
        "elif model_no == 2:\n",
        "  model.add(Flatten(input_shape=(45, 51, 4)))\n",
        "  model.add(Dense(64, activation='sigmoid'))\n",
        "  model.add(Dense(128, activation='sigmoid'))\n",
        "  model.add(Dense(32, activation='sigmoid'))\n",
        "  model.add(Dense(4, activation='sigmoid'))\n",
        "# Convolutional + linear network\n",
        "elif model_no == 3: # pokus (best now)\n",
        "  model.add(InputLayer(input_shape=(45,51,4)))\n",
        "  model.add(Conv2D(64, (3,3)))\n",
        "  model.add(MaxPooling2D(pool_size=(3,3)))\n",
        "  model.add(Flatten())\n",
        "  model.add(Dense(32, activation='sigmoid'))\n",
        "  model.add(Dense(16, activation='sigmoid'))\n",
        "  model.add(Dense(4, activation='sigmoid'))\n",
        "# Convolutional + linear network v2\n",
        "elif model_no == 4: # pokus2\n",
        "  model.add(InputLayer(input_shape=(45,51,4)))\n",
        "  model.add(Conv2D(32, (3,3)))\n",
        "  model.add(MaxPooling2D(pool_size=(3,3)))\n",
        "  model.add(Flatten())\n",
        "  model.add(Dense(16, activation='sigmoid'))\n",
        "  model.add(Dense(8, activation='sigmoid'))\n",
        "  model.add(Dense(4, activation='sigmoid'))\n",
        "elif model_no == 5: # labels(4)\n",
        "  model.add(InputLayer(input_shape=(45,51,4)))\n",
        "  model.add(Conv2D(32, (2,2)))\n",
        "  model.add(MaxPooling2D(pool_size=(2,2)))\n",
        "  model.add(Flatten())\n",
        "  model.add(Dense(32, activation='sigmoid'))\n",
        "  model.add(Dense(16, activation='sigmoid'))\n",
        "  model.add(Dense(4, activation='sigmoid'))\n",
        "elif model_no == 6: # labels(4)\n",
        "  model.add(InputLayer(input_shape=(45,51,4)))\n",
        "  model.add(Conv2D(8, (2,2)))\n",
        "  model.add(MaxPooling2D(pool_size=(2,2)))\n",
        "  model.add(Flatten())\n",
        "  model.add(Dense(32, activation='sigmoid'))\n",
        "  model.add(Dense(16, activation='sigmoid'))\n",
        "  model.add(Dense(4, activation='sigmoid'))\n",
        "elif model_no == 7: # labels(4)\n",
        "  model.add(InputLayer(input_shape=(45,51,4)))\n",
        "  model.add(Conv2D(8, (3,3)))\n",
        "  model.add(MaxPooling2D(pool_size=(2,2)))\n",
        "  model.add(Conv2D(4, (2,2)))\n",
        "  model.add(MaxPooling2D(pool_size=(2,2)))\n",
        "  model.add(Flatten())\n",
        "  model.add(Dense(32, activation='sigmoid'))\n",
        "  model.add(Dense(4, activation='sigmoid'))\n",
        "\n",
        "model.summary()"
      ],
      "metadata": {
        "colab": {
          "base_uri": "https://localhost:8080/"
        },
        "id": "lETEuWBpFHvZ",
        "outputId": "3fbcc49b-d014-438c-eaa7-dccb49688539"
      },
      "execution_count": 108,
      "outputs": [
        {
          "output_type": "stream",
          "name": "stdout",
          "text": [
            "Model: \"sequential_21\"\n",
            "_________________________________________________________________\n",
            " Layer (type)                Output Shape              Param #   \n",
            "=================================================================\n",
            " conv2d_26 (Conv2D)          (None, 43, 49, 8)         296       \n",
            "                                                                 \n",
            " max_pooling2d_25 (MaxPooli  (None, 21, 24, 8)         0         \n",
            " ng2D)                                                           \n",
            "                                                                 \n",
            " conv2d_27 (Conv2D)          (None, 20, 23, 4)         132       \n",
            "                                                                 \n",
            " max_pooling2d_26 (MaxPooli  (None, 10, 11, 4)         0         \n",
            " ng2D)                                                           \n",
            "                                                                 \n",
            " flatten_21 (Flatten)        (None, 440)               0         \n",
            "                                                                 \n",
            " dense_59 (Dense)            (None, 32)                14112     \n",
            "                                                                 \n",
            " dense_60 (Dense)            (None, 4)                 132       \n",
            "                                                                 \n",
            "=================================================================\n",
            "Total params: 14672 (57.31 KB)\n",
            "Trainable params: 14672 (57.31 KB)\n",
            "Non-trainable params: 0 (0.00 Byte)\n",
            "_________________________________________________________________\n"
          ]
        }
      ]
    },
    {
      "cell_type": "code",
      "source": [
        "\n",
        "# MODEL COMPILE\n",
        "\n",
        "loss = None\n",
        "optimizer = None\n",
        "metrics = None\n",
        "\n",
        "opt = 'SDG'\n",
        "rate = 0.03\n",
        "\n",
        "match opt:\n",
        "\n",
        "  case 'SDG':\n",
        "    optimizer = SGD(learning_rate = rate)\n",
        "  case 'Adam':\n",
        "    optimizer = keras.optimizers.Adam(learning_rate = rate)\n",
        "  case 'RMSprob':\n",
        "    optimizer = keras.optimizers.RMSprop(learning_rate = rate)\n",
        "  case 'Lion':\n",
        "    optimizer = keras.optimizers.Lion(learning_rate = rate)\n",
        "  case _ :\n",
        "    optimizer = SGD(learning_rate = 0.01)\n",
        "\n",
        "\n",
        "\n",
        "model.compile(loss='categorical_crossentropy', optimizer=optimizer, metrics=['accuracy'])\n",
        "\n",
        "\n",
        "###################################"
      ],
      "metadata": {
        "id": "1F8V8DYTFgxW"
      },
      "execution_count": 109,
      "outputs": []
    },
    {
      "cell_type": "code",
      "source": [
        "\n",
        "# MODEL TRAIN\n",
        "\n",
        "history = model.fit(X_train, y_train_encoded, epochs=30, batch_size=16, validation_split = 0.3)\n"
      ],
      "metadata": {
        "colab": {
          "base_uri": "https://localhost:8080/"
        },
        "id": "t9Gm1dH_FogJ",
        "outputId": "2cd01fc2-7c06-4259-ecf8-93c7e7b7ebf5"
      },
      "execution_count": 110,
      "outputs": [
        {
          "output_type": "stream",
          "name": "stdout",
          "text": [
            "Epoch 1/30\n",
            "708/708 [==============================] - 5s 7ms/step - loss: 1.3335 - accuracy: 0.3332 - val_loss: 1.3076 - val_accuracy: 0.3361\n",
            "Epoch 2/30\n",
            "708/708 [==============================] - 5s 7ms/step - loss: 1.1578 - accuracy: 0.4806 - val_loss: 0.9089 - val_accuracy: 0.6797\n",
            "Epoch 3/30\n",
            "708/708 [==============================] - 4s 6ms/step - loss: 0.7373 - accuracy: 0.7193 - val_loss: 0.6369 - val_accuracy: 0.7539\n",
            "Epoch 4/30\n",
            "708/708 [==============================] - 4s 6ms/step - loss: 0.5765 - accuracy: 0.7774 - val_loss: 0.5412 - val_accuracy: 0.7953\n",
            "Epoch 5/30\n",
            "708/708 [==============================] - 5s 7ms/step - loss: 0.4938 - accuracy: 0.8151 - val_loss: 0.5020 - val_accuracy: 0.8019\n",
            "Epoch 6/30\n",
            "708/708 [==============================] - 4s 5ms/step - loss: 0.4354 - accuracy: 0.8334 - val_loss: 0.4287 - val_accuracy: 0.8385\n",
            "Epoch 7/30\n",
            "708/708 [==============================] - 4s 5ms/step - loss: 0.3894 - accuracy: 0.8554 - val_loss: 0.4028 - val_accuracy: 0.8501\n",
            "Epoch 8/30\n",
            "708/708 [==============================] - 4s 6ms/step - loss: 0.3599 - accuracy: 0.8655 - val_loss: 0.3711 - val_accuracy: 0.8560\n",
            "Epoch 9/30\n",
            "708/708 [==============================] - 5s 7ms/step - loss: 0.3334 - accuracy: 0.8759 - val_loss: 0.3533 - val_accuracy: 0.8632\n",
            "Epoch 10/30\n",
            "708/708 [==============================] - 4s 5ms/step - loss: 0.3145 - accuracy: 0.8824 - val_loss: 0.3283 - val_accuracy: 0.8772\n",
            "Epoch 11/30\n",
            "708/708 [==============================] - 4s 6ms/step - loss: 0.2952 - accuracy: 0.8938 - val_loss: 0.3390 - val_accuracy: 0.8715\n",
            "Epoch 12/30\n",
            "708/708 [==============================] - 4s 6ms/step - loss: 0.2797 - accuracy: 0.8960 - val_loss: 0.3196 - val_accuracy: 0.8772\n",
            "Epoch 13/30\n",
            "708/708 [==============================] - 4s 6ms/step - loss: 0.2675 - accuracy: 0.9039 - val_loss: 0.2967 - val_accuracy: 0.8875\n",
            "Epoch 14/30\n",
            "708/708 [==============================] - 4s 6ms/step - loss: 0.2617 - accuracy: 0.9029 - val_loss: 0.2720 - val_accuracy: 0.8966\n",
            "Epoch 15/30\n",
            "708/708 [==============================] - 5s 7ms/step - loss: 0.2487 - accuracy: 0.9090 - val_loss: 0.2867 - val_accuracy: 0.8958\n",
            "Epoch 16/30\n",
            "708/708 [==============================] - 4s 5ms/step - loss: 0.2383 - accuracy: 0.9110 - val_loss: 0.2669 - val_accuracy: 0.8999\n",
            "Epoch 17/30\n",
            "708/708 [==============================] - 4s 5ms/step - loss: 0.2345 - accuracy: 0.9124 - val_loss: 0.2718 - val_accuracy: 0.8966\n",
            "Epoch 18/30\n",
            "708/708 [==============================] - 5s 8ms/step - loss: 0.2269 - accuracy: 0.9182 - val_loss: 0.2424 - val_accuracy: 0.9079\n",
            "Epoch 19/30\n",
            "708/708 [==============================] - 4s 5ms/step - loss: 0.2156 - accuracy: 0.9225 - val_loss: 0.2408 - val_accuracy: 0.9133\n",
            "Epoch 20/30\n",
            "708/708 [==============================] - 4s 5ms/step - loss: 0.2106 - accuracy: 0.9225 - val_loss: 0.2515 - val_accuracy: 0.9100\n",
            "Epoch 21/30\n",
            "708/708 [==============================] - 5s 7ms/step - loss: 0.2087 - accuracy: 0.9237 - val_loss: 0.2333 - val_accuracy: 0.9090\n",
            "Epoch 22/30\n",
            "708/708 [==============================] - 4s 6ms/step - loss: 0.1985 - accuracy: 0.9273 - val_loss: 0.2511 - val_accuracy: 0.9048\n",
            "Epoch 23/30\n",
            "708/708 [==============================] - 4s 5ms/step - loss: 0.1932 - accuracy: 0.9286 - val_loss: 0.2709 - val_accuracy: 0.8947\n",
            "Epoch 24/30\n",
            "708/708 [==============================] - 5s 7ms/step - loss: 0.1918 - accuracy: 0.9309 - val_loss: 0.2393 - val_accuracy: 0.9065\n",
            "Epoch 25/30\n",
            "708/708 [==============================] - 4s 6ms/step - loss: 0.1842 - accuracy: 0.9304 - val_loss: 0.2135 - val_accuracy: 0.9186\n",
            "Epoch 26/30\n",
            "708/708 [==============================] - 4s 5ms/step - loss: 0.1779 - accuracy: 0.9356 - val_loss: 0.2155 - val_accuracy: 0.9240\n",
            "Epoch 27/30\n",
            "708/708 [==============================] - 4s 6ms/step - loss: 0.1792 - accuracy: 0.9333 - val_loss: 0.2379 - val_accuracy: 0.9090\n",
            "Epoch 28/30\n",
            "708/708 [==============================] - 4s 6ms/step - loss: 0.1718 - accuracy: 0.9378 - val_loss: 0.2223 - val_accuracy: 0.9162\n",
            "Epoch 29/30\n",
            "708/708 [==============================] - 4s 5ms/step - loss: 0.1682 - accuracy: 0.9378 - val_loss: 0.2057 - val_accuracy: 0.9248\n",
            "Epoch 30/30\n",
            "708/708 [==============================] - 4s 5ms/step - loss: 0.1640 - accuracy: 0.9423 - val_loss: 0.2095 - val_accuracy: 0.9186\n"
          ]
        }
      ]
    },
    {
      "cell_type": "code",
      "source": [
        "# PREDICTION ON UNLABELED DATA\n",
        "\n",
        "predictions = model.predict(X_test)\n",
        "\n",
        "test_labels = [np.argmax(x) for x in predictions]"
      ],
      "metadata": {
        "colab": {
          "base_uri": "https://localhost:8080/"
        },
        "id": "4YIlQeTnxW5q",
        "outputId": "309f4255-3323-402a-e96d-dafc3db0bc0e"
      },
      "execution_count": 111,
      "outputs": [
        {
          "output_type": "stream",
          "name": "stdout",
          "text": [
            "150/150 [==============================] - 1s 3ms/step\n"
          ]
        }
      ]
    },
    {
      "cell_type": "code",
      "source": [
        "# Write result to a CSV file\n",
        "\n",
        "id_array = np.array([str(i) for i in range(0, len(test_labels))])\n",
        "target_array = np.array([str(i) for i in test_labels])\n",
        "\n",
        "csv_content= zip(id_array, target_array)\n",
        "\n",
        "# Specify the file name for the CSV file\n",
        "csv_file = '/content/drive/Shareddrives/shared/projekt2/test_labels.csv'\n",
        "\n",
        "# Write the data to a CSV file\n",
        "with open(csv_file, mode='w', newline='') as file:\n",
        "    writer = csv.writer(file)\n",
        "    writer.writerow(['id', 'target'])  # Write column headers\n",
        "    writer.writerows(csv_content)  # Write rows of data"
      ],
      "metadata": {
        "id": "pYpDjKwGzSfr"
      },
      "execution_count": 112,
      "outputs": []
    },
    {
      "cell_type": "code",
      "source": [
        "# PLOT\n",
        "\n",
        "plt.figure()\n",
        "plt.plot(history.history['loss'])\n",
        "plt.plot(history.history['val_loss'])\n",
        "\n",
        "plt.figure()\n",
        "plt.plot(history.history['accuracy'])\n",
        "plt.plot(history.history['val_accuracy'])\n"
      ],
      "metadata": {
        "colab": {
          "base_uri": "https://localhost:8080/",
          "height": 868
        },
        "id": "VOlUOgNoFxcl",
        "outputId": "3f0a42df-a70f-4c46-b2ed-d674fa23deed"
      },
      "execution_count": 100,
      "outputs": [
        {
          "output_type": "execute_result",
          "data": {
            "text/plain": [
              "[<matplotlib.lines.Line2D at 0x7c49dbf961d0>]"
            ]
          },
          "metadata": {},
          "execution_count": 100
        },
        {
          "output_type": "display_data",
          "data": {
            "text/plain": [
              "<Figure size 640x480 with 1 Axes>"
            ],
            "image/png": "[encoded data removed]"
          },
          "metadata": {}
        },
        {
          "output_type": "display_data",
          "data": {
            "text/plain": [
              "<Figure size 640x480 with 1 Axes>"
            ],
            "image/png": "[encoded data removed]"
          },
          "metadata": {}
        }
      ]
    }
  ]
}